{
 "cells": [
  {
   "cell_type": "code",
   "execution_count": 23,
   "id": "uJ4X3PD_OI2H",
   "metadata": {
    "colab": {
     "base_uri": "https://localhost:8080/",
     "height": 1000
    },
    "id": "uJ4X3PD_OI2H",
    "outputId": "6d3a5160-0acb-4278-f92d-783828f1cdc1"
   },
   "outputs": [],
   "source": [
    "import pandas as pd\n",
    "import matplotlib.pyplot as plt\n",
    "%matplotlib inline\n",
    "\n",
    "# Load the training data\n",
    "df_train = pd.read_csv(\"Google_Stock_Price_Train.csv\")\n",
    "\n",
    "\n"
   ]
  },
  {
   "cell_type": "code",
   "execution_count": 24,
   "id": "c54a1cd4",
   "metadata": {},
   "outputs": [],
   "source": [
    "# Scale the training data\n",
    "from sklearn.preprocessing import MinMaxScaler\n",
    "scaler = MinMaxScaler()\n",
    "df_train_scaled = scaler.fit_transform(df_train[['Open']])"
   ]
  },
  {
   "cell_type": "code",
   "execution_count": 25,
   "id": "38f9bc2e",
   "metadata": {},
   "outputs": [],
   "source": [
    "# Build the training data for the LSTM\n",
    "X_train = []\n",
    "y_train = []\n",
    "\n",
    "for i in range(60, 1258):\n",
    "    X_train.append(df_train_scaled[i-60:i, 0])\n",
    "    y_train.append(df_train_scaled[i, 0])\n",
    "X_train, y_train = np.array(X_train), np.array(y_train)"
   ]
  },
  {
   "cell_type": "code",
   "execution_count": 26,
   "id": "ac941c39",
   "metadata": {},
   "outputs": [],
   "source": [
    "# Reshape the training data for the LSTM\n",
    "X_train = np.reshape(X_train, (X_train.shape[0], X_train.shape[1], 1))\n",
    "\n",
    "# Build the LSTM model\n",
    "from tensorflow.keras.models import Sequential\n",
    "from tensorflow.keras.layers import LSTM\n",
    "from tensorflow.keras.layers import Dense\n",
    "\n",
    "model = Sequential()\n",
    "\n",
    "model.add(LSTM(units=50, return_sequences=True, input_shape=(X_train.shape[1], 1)))\n",
    "model.add(Dropout(0.2))\n",
    "\n",
    "model.add(LSTM(units=50, return_sequences=True))\n",
    "model.add(Dropout(0.2))\n",
    "\n",
    "model.add(LSTM(units=50, return_sequences=True))\n",
    "model.add(Dropout(0.2))\n",
    "\n",
    "model.add(LSTM(units=50))\n",
    "model.add(Dropout(0.2))\n",
    "\n",
    "model.add(Dense(units=1))\n"
   ]
  },
  {
   "cell_type": "code",
   "execution_count": 27,
   "id": "e64e9767",
   "metadata": {},
   "outputs": [
    {
     "name": "stdout",
     "output_type": "stream",
     "text": [
      "Epoch 1/100\n",
      "1198/1198 [==============================] - 8s 7ms/sample - loss: 0.0502\n",
      "Epoch 2/100\n",
      "1198/1198 [==============================] - 5s 4ms/sample - loss: 0.0062\n",
      "Epoch 3/100\n",
      "1198/1198 [==============================] - 5s 4ms/sample - loss: 0.0050\n",
      "Epoch 4/100\n",
      "1198/1198 [==============================] - 5s 4ms/sample - loss: 0.0048\n",
      "Epoch 5/100\n",
      "1198/1198 [==============================] - 4s 4ms/sample - loss: 0.0051\n",
      "Epoch 6/100\n",
      "1198/1198 [==============================] - 5s 4ms/sample - loss: 0.0047\n",
      "Epoch 7/100\n",
      "1198/1198 [==============================] - 5s 4ms/sample - loss: 0.0047\n",
      "Epoch 8/100\n",
      "1198/1198 [==============================] - 5s 4ms/sample - loss: 0.0049\n",
      "Epoch 9/100\n",
      "1198/1198 [==============================] - 5s 4ms/sample - loss: 0.0047\n",
      "Epoch 10/100\n",
      "1198/1198 [==============================] - 5s 4ms/sample - loss: 0.0041\n",
      "Epoch 11/100\n",
      "1198/1198 [==============================] - 5s 4ms/sample - loss: 0.0042\n",
      "Epoch 12/100\n",
      "1198/1198 [==============================] - 4s 4ms/sample - loss: 0.0040\n",
      "Epoch 13/100\n",
      "1198/1198 [==============================] - 5s 4ms/sample - loss: 0.0036\n",
      "Epoch 14/100\n",
      "1198/1198 [==============================] - 5s 4ms/sample - loss: 0.0037\n",
      "Epoch 15/100\n",
      "1198/1198 [==============================] - 5s 4ms/sample - loss: 0.0038\n",
      "Epoch 16/100\n",
      "1198/1198 [==============================] - 5s 4ms/sample - loss: 0.0036\n",
      "Epoch 17/100\n",
      "1198/1198 [==============================] - 5s 4ms/sample - loss: 0.0034\n",
      "Epoch 18/100\n",
      "1198/1198 [==============================] - 5s 4ms/sample - loss: 0.0038\n",
      "Epoch 19/100\n",
      "1198/1198 [==============================] - 5s 4ms/sample - loss: 0.0038\n",
      "Epoch 20/100\n",
      "1198/1198 [==============================] - 4s 4ms/sample - loss: 0.0038\n",
      "Epoch 21/100\n",
      "1198/1198 [==============================] - 5s 4ms/sample - loss: 0.0037\n",
      "Epoch 22/100\n",
      "1198/1198 [==============================] - 5s 4ms/sample - loss: 0.0034\n",
      "Epoch 23/100\n",
      "1198/1198 [==============================] - 5s 4ms/sample - loss: 0.0032\n",
      "Epoch 24/100\n",
      "1198/1198 [==============================] - 5s 4ms/sample - loss: 0.0039\n",
      "Epoch 25/100\n",
      "1198/1198 [==============================] - 5s 4ms/sample - loss: 0.0038\n",
      "Epoch 26/100\n",
      "1198/1198 [==============================] - 4s 3ms/sample - loss: 0.0032\n",
      "Epoch 27/100\n",
      "1198/1198 [==============================] - 4s 3ms/sample - loss: 0.0030\n",
      "Epoch 28/100\n",
      "1198/1198 [==============================] - 4s 3ms/sample - loss: 0.0029\n",
      "Epoch 29/100\n",
      "1198/1198 [==============================] - 4s 3ms/sample - loss: 0.0029\n",
      "Epoch 30/100\n",
      "1198/1198 [==============================] - 4s 3ms/sample - loss: 0.0028\n",
      "Epoch 31/100\n",
      "1198/1198 [==============================] - 4s 3ms/sample - loss: 0.0031\n",
      "Epoch 32/100\n",
      "1198/1198 [==============================] - 4s 3ms/sample - loss: 0.0030\n",
      "Epoch 33/100\n",
      "1198/1198 [==============================] - 4s 3ms/sample - loss: 0.0028\n",
      "Epoch 34/100\n",
      "1198/1198 [==============================] - 4s 4ms/sample - loss: 0.0031\n",
      "Epoch 35/100\n",
      "1198/1198 [==============================] - 4s 3ms/sample - loss: 0.0028\n",
      "Epoch 36/100\n",
      "1198/1198 [==============================] - 4s 3ms/sample - loss: 0.0029\n",
      "Epoch 37/100\n",
      "1198/1198 [==============================] - 4s 3ms/sample - loss: 0.0027\n",
      "Epoch 38/100\n",
      "1198/1198 [==============================] - 4s 3ms/sample - loss: 0.0028\n",
      "Epoch 39/100\n",
      "1198/1198 [==============================] - 4s 3ms/sample - loss: 0.0029\n",
      "Epoch 40/100\n",
      "1198/1198 [==============================] - 4s 3ms/sample - loss: 0.0026\n",
      "Epoch 41/100\n",
      "1198/1198 [==============================] - 4s 3ms/sample - loss: 0.0028\n",
      "Epoch 42/100\n",
      "1198/1198 [==============================] - 4s 3ms/sample - loss: 0.0026\n",
      "Epoch 43/100\n",
      "1198/1198 [==============================] - 4s 3ms/sample - loss: 0.0024\n",
      "Epoch 44/100\n",
      "1198/1198 [==============================] - 4s 3ms/sample - loss: 0.0024\n",
      "Epoch 45/100\n",
      "1198/1198 [==============================] - 4s 3ms/sample - loss: 0.0027\n",
      "Epoch 46/100\n",
      "1198/1198 [==============================] - 4s 3ms/sample - loss: 0.0023\n",
      "Epoch 47/100\n",
      "1198/1198 [==============================] - 4s 3ms/sample - loss: 0.0027\n",
      "Epoch 48/100\n",
      "1198/1198 [==============================] - 4s 3ms/sample - loss: 0.0026\n",
      "Epoch 49/100\n",
      "1198/1198 [==============================] - 4s 3ms/sample - loss: 0.0025\n",
      "Epoch 50/100\n",
      "1198/1198 [==============================] - 4s 3ms/sample - loss: 0.0023\n",
      "Epoch 51/100\n",
      "1198/1198 [==============================] - 4s 3ms/sample - loss: 0.0024\n",
      "Epoch 52/100\n",
      "1198/1198 [==============================] - 4s 3ms/sample - loss: 0.0022\n",
      "Epoch 53/100\n",
      "1198/1198 [==============================] - 4s 3ms/sample - loss: 0.0024\n",
      "Epoch 54/100\n",
      "1198/1198 [==============================] - 4s 3ms/sample - loss: 0.0028\n",
      "Epoch 55/100\n",
      "1198/1198 [==============================] - 4s 3ms/sample - loss: 0.0022\n",
      "Epoch 56/100\n",
      "1198/1198 [==============================] - 4s 3ms/sample - loss: 0.0023\n",
      "Epoch 57/100\n",
      "1198/1198 [==============================] - 4s 3ms/sample - loss: 0.0024\n",
      "Epoch 58/100\n",
      "1198/1198 [==============================] - 4s 3ms/sample - loss: 0.0024\n",
      "Epoch 59/100\n",
      "1198/1198 [==============================] - 4s 3ms/sample - loss: 0.0022\n",
      "Epoch 60/100\n",
      "1198/1198 [==============================] - 4s 3ms/sample - loss: 0.0022\n",
      "Epoch 61/100\n",
      "1198/1198 [==============================] - 4s 3ms/sample - loss: 0.0021\n",
      "Epoch 62/100\n",
      "1198/1198 [==============================] - 4s 3ms/sample - loss: 0.0020\n",
      "Epoch 63/100\n",
      "1198/1198 [==============================] - 4s 3ms/sample - loss: 0.0023\n",
      "Epoch 64/100\n",
      "1198/1198 [==============================] - 4s 3ms/sample - loss: 0.0020\n",
      "Epoch 65/100\n",
      "1198/1198 [==============================] - 4s 3ms/sample - loss: 0.0019\n",
      "Epoch 66/100\n",
      "1198/1198 [==============================] - 4s 3ms/sample - loss: 0.0020\n",
      "Epoch 67/100\n",
      "1198/1198 [==============================] - 4s 3ms/sample - loss: 0.0019\n",
      "Epoch 68/100\n",
      "1198/1198 [==============================] - 4s 3ms/sample - loss: 0.0019\n",
      "Epoch 69/100\n",
      "1198/1198 [==============================] - 4s 3ms/sample - loss: 0.0019\n",
      "Epoch 70/100\n",
      "1198/1198 [==============================] - 4s 3ms/sample - loss: 0.0019\n",
      "Epoch 71/100\n",
      "1198/1198 [==============================] - 4s 3ms/sample - loss: 0.0017\n",
      "Epoch 72/100\n",
      "1198/1198 [==============================] - 4s 3ms/sample - loss: 0.0018\n",
      "Epoch 73/100\n",
      "1198/1198 [==============================] - 4s 3ms/sample - loss: 0.0018\n",
      "Epoch 74/100\n",
      "1198/1198 [==============================] - 4s 3ms/sample - loss: 0.0018\n",
      "Epoch 75/100\n",
      "1198/1198 [==============================] - 4s 3ms/sample - loss: 0.0020\n",
      "Epoch 76/100\n",
      "1198/1198 [==============================] - 4s 3ms/sample - loss: 0.0018\n",
      "Epoch 77/100\n",
      "1198/1198 [==============================] - 4s 3ms/sample - loss: 0.0017\n",
      "Epoch 78/100\n",
      "1198/1198 [==============================] - 4s 3ms/sample - loss: 0.0017\n",
      "Epoch 79/100\n",
      "1198/1198 [==============================] - 4s 3ms/sample - loss: 0.0018\n",
      "Epoch 80/100\n",
      "1198/1198 [==============================] - 4s 3ms/sample - loss: 0.0016\n",
      "Epoch 81/100\n",
      "1198/1198 [==============================] - 4s 3ms/sample - loss: 0.0016\n",
      "Epoch 82/100\n",
      "1198/1198 [==============================] - 4s 3ms/sample - loss: 0.0015\n",
      "Epoch 83/100\n",
      "1198/1198 [==============================] - 4s 3ms/sample - loss: 0.0016\n",
      "Epoch 84/100\n",
      "1198/1198 [==============================] - 4s 3ms/sample - loss: 0.0019\n",
      "Epoch 85/100\n",
      "1198/1198 [==============================] - 4s 3ms/sample - loss: 0.0016\n",
      "Epoch 86/100\n",
      "1198/1198 [==============================] - 4s 3ms/sample - loss: 0.0017\n",
      "Epoch 87/100\n",
      "1198/1198 [==============================] - 4s 3ms/sample - loss: 0.0019\n",
      "Epoch 88/100\n",
      "1198/1198 [==============================] - 4s 3ms/sample - loss: 0.0016\n",
      "Epoch 89/100\n",
      "1198/1198 [==============================] - 4s 3ms/sample - loss: 0.0016\n",
      "Epoch 90/100\n",
      "1198/1198 [==============================] - 4s 3ms/sample - loss: 0.0015\n",
      "Epoch 91/100\n",
      "1198/1198 [==============================] - 4s 3ms/sample - loss: 0.0016\n",
      "Epoch 92/100\n",
      "1198/1198 [==============================] - 4s 3ms/sample - loss: 0.0017\n",
      "Epoch 93/100\n",
      "1198/1198 [==============================] - 4s 3ms/sample - loss: 0.0017\n",
      "Epoch 94/100\n",
      "1198/1198 [==============================] - 4s 3ms/sample - loss: 0.0015\n",
      "Epoch 95/100\n"
     ]
    },
    {
     "name": "stdout",
     "output_type": "stream",
     "text": [
      "1198/1198 [==============================] - 4s 3ms/sample - loss: 0.0014\n",
      "Epoch 96/100\n",
      "1198/1198 [==============================] - 4s 3ms/sample - loss: 0.0016\n",
      "Epoch 97/100\n",
      "1198/1198 [==============================] - 4s 3ms/sample - loss: 0.0015\n",
      "Epoch 98/100\n",
      "1198/1198 [==============================] - 4s 3ms/sample - loss: 0.0015\n",
      "Epoch 99/100\n",
      "1198/1198 [==============================] - 4s 3ms/sample - loss: 0.0015\n",
      "Epoch 100/100\n",
      "1198/1198 [==============================] - 4s 3ms/sample - loss: 0.0015\n"
     ]
    },
    {
     "data": {
      "text/plain": [
       "<tensorflow.python.keras.callbacks.History at 0x1fc4a104588>"
      ]
     },
     "execution_count": 27,
     "metadata": {},
     "output_type": "execute_result"
    }
   ],
   "source": [
    "# Compile and fit the LSTM model\n",
    "model.compile(optimizer='adam', loss='mean_squared_error')\n",
    "model.fit(X_train, y_train, epochs=100, batch_size=32)\n",
    "\n"
   ]
  },
  {
   "cell_type": "code",
   "execution_count": 33,
   "id": "81129ef6",
   "metadata": {},
   "outputs": [],
   "source": [
    "# Load the test data\n",
    "df_test = pd.read_csv(\"Google_Stock_Price_Test.csv\")"
   ]
  },
  {
   "cell_type": "code",
   "execution_count": 29,
   "id": "85acfa43",
   "metadata": {},
   "outputs": [
    {
     "name": "stderr",
     "output_type": "stream",
     "text": [
      "c:\\users\\k chandana\\appdata\\local\\programs\\python\\python37\\lib\\site-packages\\sklearn\\base.py:451: UserWarning: X does not have valid feature names, but MinMaxScaler was fitted with feature names\n",
      "  \"X does not have valid feature names, but\"\n"
     ]
    }
   ],
   "source": [
    "# Concatenate the training and test data\n",
    "df_total = pd.concat((df_train['Open'], df_test['Open']), axis=0)\n",
    "inputs = df_total[len(df_total) - len(df_test) - 60:].values\n",
    "\n",
    "# Reshape and scale the input data\n",
    "inputs = inputs.reshape(-1, 1)\n",
    "inputs = scaler.transform(inputs)"
   ]
  },
  {
   "cell_type": "code",
   "execution_count": 30,
   "id": "950fe39b",
   "metadata": {},
   "outputs": [],
   "source": [
    "# Create the testing data for the LSTM\n",
    "X_test = []\n",
    "\n",
    "for i in range(60, 80):\n",
    "    X_test.append(inputs[i-60:i, 0])\n",
    "X_test = np.array(X_test)\n",
    "\n",
    "\n"
   ]
  },
  {
   "cell_type": "code",
   "execution_count": 31,
   "id": "c624e620",
   "metadata": {},
   "outputs": [],
   "source": [
    "# Reshape the testing data for the LSTM\n",
    "X_test = np.reshape(X_test, (X_test.shape[0], X_test.shape[1], 1))\n",
    "\n",
    "# Make predictions using the LSTM model\n",
    "predictions = model.predict(X_test)\n",
    "predictions = scaler.inverse_transform(predictions)\n",
    "\n",
    "# Get the actual stock prices\n",
    "actual_stock_price = df_test[['Open']].values\n"
   ]
  },
  {
   "cell_type": "code",
   "execution_count": null,
   "id": "b5dc58b7",
   "metadata": {},
   "outputs": [],
   "source": []
  },
  {
   "cell_type": "code",
   "execution_count": 8,
   "id": "4f9a5a20",
   "metadata": {},
   "outputs": [],
   "source": []
  },
  {
   "cell_type": "code",
   "execution_count": 34,
   "id": "bb49b5cc",
   "metadata": {},
   "outputs": [
    {
     "data": {
      "image/png": "[encoded data removed]",
      "text/plain": [
       "<Figure size 640x480 with 1 Axes>"
      ]
     },
     "metadata": {},
     "output_type": "display_data"
    }
   ],
   "source": [
    "# Plot the results\n",
    "plt.plot(actual_stock_price, color='red', label='Actual Google Stock Price')\n",
    "plt.plot(predictions, color='blue', label='Predicted Google Stock Price')\n",
    "plt.title('Google Stock Price Prediction')\n",
    "plt.xlabel('Time')\n",
    "plt.ylabel('Google Stock Price')\n",
    "plt.legend()\n",
    "plt.show()"
   ]
  },
  {
   "cell_type": "code",
   "execution_count": null,
   "id": "bd7c5b15",
   "metadata": {},
   "outputs": [],
   "source": [
    "import numpy as np\n",
    "from tensorflow.keras.layers import Dropout\n"
   ]
  }
 ],
 "metadata": {
  "colab": {
   "provenance": []
  },
  "kernelspec": {
   "display_name": "Python 3 (ipykernel)",
   "language": "python",
   "name": "python3"
  },
  "language_info": {
   "codemirror_mode": {
    "name": "ipython",
    "version": 3
   },
   "file_extension": ".py",
   "mimetype": "text/x-python",
   "name": "python",
   "nbconvert_exporter": "python",
   "pygments_lexer": "ipython3",
   "version": "3.7.6"
  },
  "vscode": {
   "interpreter": {
    "hash": "916dbcbb3f70747c44a77c7bcd40155683ae19c65e1c03b4aa3499c5328201f1"
   }
  }
 },
 "nbformat": 4,
 "nbformat_minor": 5
}
